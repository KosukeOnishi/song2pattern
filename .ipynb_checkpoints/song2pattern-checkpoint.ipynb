{
 "cells": [
  {
   "cell_type": "markdown",
   "id": "b9942884",
   "metadata": {},
   "source": [
    "# song2pattern\n",
    "\n",
    "このノートブックを実行することでSpotify APIから情報を取得し、その情報をもとにGray-Scottモデルを用いてパターンを可視化することができます。"
   ]
  },
  {
   "cell_type": "code",
   "execution_count": 160,
   "id": "088d3da1",
   "metadata": {},
   "outputs": [],
   "source": [
    "import config\n",
    "import requests\n",
    "import json"
   ]
  },
  {
   "cell_type": "markdown",
   "id": "e2be4d03",
   "metadata": {},
   "source": [
    "はじめに、Spotify APIの情報を取得する必要があります。下記のサイトから各自のSpotifyアカウント（プレミアムでなくても可能）でログインして、client_idとclient_secretを取得してください。\n",
    "https://developer.spotify.com/documentation/web-api"
   ]
  },
  {
   "cell_type": "code",
   "execution_count": 161,
   "id": "1ff7d979",
   "metadata": {},
   "outputs": [],
   "source": [
    "client_id = config.client_id # 直接 client_id = 'aaaaaaabbbbbcc'というように入力しても可\n",
    "client_secret = config.client_secret"
   ]
  },
  {
   "cell_type": "code",
   "execution_count": 162,
   "id": "883a4116",
   "metadata": {},
   "outputs": [],
   "source": [
    "data = {\n",
    "    'grant_type': 'client_credentials',\n",
    "    'client_id': client_id,\n",
    "    'client_secret': client_secret,\n",
    "}\n",
    "\n",
    "response = requests.post('https://accounts.spotify.com/api/token', data=data)\n",
    "user_data = json.loads(response.text)\n",
    "access_token = user_data['access_token']"
   ]
  },
  {
   "cell_type": "code",
   "execution_count": 163,
   "id": "a46953e2",
   "metadata": {},
   "outputs": [],
   "source": [
    "def search(search_str):\n",
    "    headers = {\n",
    "        'Authorization': 'Bearer '+access_token,\n",
    "        'Accept-Language': 'ja;q=1',\n",
    "    }\n",
    "\n",
    "    response = requests.get(f'https://api.spotify.com/v1/search?q={search_str}&type=track', headers=headers)\n",
    "    data = json.loads(response.text)\n",
    "    items = data['tracks']['items']\n",
    "    \n",
    "    def get_item_details(item):\n",
    "        details = {\n",
    "            'name': item['name'],\n",
    "            'artist': item['artists'][0]['name'],\n",
    "            'song_id': item['id'],\n",
    "            'image_url': item['album']['images'][0]['url']\n",
    "        }\n",
    "        return details\n",
    "    \n",
    "    items_details = []\n",
    "    for item in items:\n",
    "        items_details.append(get_item_details(item))\n",
    "    \n",
    "    return items_details"
   ]
  },
  {
   "cell_type": "code",
   "execution_count": 164,
   "id": "f8887fd7",
   "metadata": {},
   "outputs": [],
   "source": [
    "def feature(song_id):\n",
    "    headers = {\n",
    "        'Authorization': 'Bearer  '+access_token,\n",
    "    }\n",
    "\n",
    "    response = requests.get(f'https://api.spotify.com/v1/audio-features/{song_id}', headers=headers)\n",
    "    return json.loads(response.text)"
   ]
  },
  {
   "cell_type": "markdown",
   "id": "bdef8131",
   "metadata": {},
   "source": [
    "以上の、search関数により曲の検索ができます。feature関数にsearchによって得られたidを引数で渡すことで、曲の特徴情報を得ることができます。"
   ]
  },
  {
   "cell_type": "code",
   "execution_count": 165,
   "id": "d2352347",
   "metadata": {
    "scrolled": true
   },
   "outputs": [
    {
     "data": {
      "text/plain": [
       "[{'name': 'Ivy',\n",
       "  'artist': 'フランク・オーシャン',\n",
       "  'song_id': '2ZWlPOoWh0626oTaHrnl2a',\n",
       "  'image_url': 'https://i.scdn.co/image/ab67616d0000b273c5649add07ed3720be9d5526'},\n",
       " {'name': 'ivy',\n",
       "  'artist': 'テイラー・スウィフト',\n",
       "  'song_id': '19CSr8rwW05VJL2F91KFNK',\n",
       "  'image_url': 'https://i.scdn.co/image/ab67616d0000b27333b8541201f1ef38941024be'},\n",
       " {'name': 'Quiero Bailar',\n",
       "  'artist': 'Ivy Queen',\n",
       "  'song_id': '7mY1dIaY9vY6Jrlrjg3dRn',\n",
       "  'image_url': 'https://i.scdn.co/image/ab67616d0000b273774ca12732a1ae8541a45b5b'},\n",
       " {'name': 'ivy',\n",
       "  'artist': 'テイラー・スウィフト',\n",
       "  'song_id': '7tXMHAFEOzcUaUQqovRGho',\n",
       "  'image_url': 'https://i.scdn.co/image/ab67616d0000b27325751b4b32829d6bbfe6be7f'},\n",
       " {'name': 'CELEBRANDO',\n",
       "  'artist': 'Rauw Alejandro',\n",
       "  'song_id': '4KrNCWx08dZr11kGIUHuuX',\n",
       "  'image_url': 'https://i.scdn.co/image/ab67616d0000b273f29d0900444e44b4146409e5'},\n",
       " {'name': 'Ivy',\n",
       "  'artist': 'Luca Longobardi',\n",
       "  'song_id': '1vkyQxqSUp9P83q1JnQit9',\n",
       "  'image_url': 'https://i.scdn.co/image/ab67616d0000b273044b46c9df3fd916de1101b6'},\n",
       " {'name': 'Pink + White',\n",
       "  'artist': 'フランク・オーシャン',\n",
       "  'song_id': '3xKsf9qdS1CyvXSMEid6g8',\n",
       "  'image_url': 'https://i.scdn.co/image/ab67616d0000b273c5649add07ed3720be9d5526'},\n",
       " {'name': 'Ivy (Doomsday)',\n",
       "  'artist': 'The Amity Affliction',\n",
       "  'song_id': '2Ll0eOXFmIeBlcybOSaQJm',\n",
       "  'image_url': 'https://i.scdn.co/image/ab67616d0000b273b7d00bebdf6300a90ee836e5'},\n",
       " {'name': 'White Ferrari',\n",
       "  'artist': 'フランク・オーシャン',\n",
       "  'song_id': '2LMkwUfqC6S6s6qDVlEuzV',\n",
       "  'image_url': 'https://i.scdn.co/image/ab67616d0000b273c5649add07ed3720be9d5526'},\n",
       " {'name': 'Ivy',\n",
       "  'artist': 'SALES',\n",
       "  'song_id': '3qcxmCQRw3OGNwB5vMcih5',\n",
       "  'image_url': 'https://i.scdn.co/image/ab67616d0000b2731138eea74b6d7e06289bedaa'},\n",
       " {'name': 'Nights',\n",
       "  'artist': 'フランク・オーシャン',\n",
       "  'song_id': '7eqoqGkKwgOaWNNHx90uEZ',\n",
       "  'image_url': 'https://i.scdn.co/image/ab67616d0000b273c5649add07ed3720be9d5526'},\n",
       " {'name': 'Précis Two',\n",
       "  'artist': 'Vansire',\n",
       "  'song_id': '5LiO40bi3foQNkIDg4PlGV',\n",
       "  'image_url': 'https://i.scdn.co/image/ab67616d0000b273d2987ee011faf3e30ab179fc'},\n",
       " {'name': 'Call It What You Want',\n",
       "  'artist': 'テイラー・スウィフト',\n",
       "  'song_id': '1GwMQaZz6Au3QLDbjbMdme',\n",
       "  'image_url': 'https://i.scdn.co/image/ab67616d0000b273da5d5aeeabacacc1263c0f4b'},\n",
       " {'name': 'IVY',\n",
       "  'artist': 'Elroy',\n",
       "  'song_id': '1cwzdiwLNCP58LSRcXG02z',\n",
       "  'image_url': 'https://i.scdn.co/image/ab67616d0000b273b28bcff4bb24c78045819081'},\n",
       " {'name': 'La Vida Es Así',\n",
       "  'artist': 'Ivy Queen',\n",
       "  'song_id': '4zK05ecddIq3vfd08Aqi8y',\n",
       "  'image_url': 'https://i.scdn.co/image/ab67616d0000b2733f2fe35d676fd45d1e44ed6a'},\n",
       " {'name': 'Ivy',\n",
       "  'artist': 'Minnz Piano',\n",
       "  'song_id': '2mpQwTDAxxVEDEK58mwgZa',\n",
       "  'image_url': 'https://i.scdn.co/image/ab67616d0000b2733d40743843d0d3da6bf008aa'},\n",
       " {'name': 'Self Control',\n",
       "  'artist': 'フランク・オーシャン',\n",
       "  'song_id': '5GUYJTQap5F3RDQiCOJhrS',\n",
       "  'image_url': 'https://i.scdn.co/image/ab67616d0000b273c5649add07ed3720be9d5526'},\n",
       " {'name': 'Ivy',\n",
       "  'artist': 'Riovaz',\n",
       "  'song_id': '7DPjSU1mKurUFmS637gJE7',\n",
       "  'image_url': 'https://i.scdn.co/image/ab67616d0000b2736166e124ee2b39059a9db322'},\n",
       " {'name': 'Pyramids',\n",
       "  'artist': 'フランク・オーシャン',\n",
       "  'song_id': '4QhWbupniDd44EDtnh2bFJ',\n",
       "  'image_url': 'https://i.scdn.co/image/ab67616d0000b2737aede4855f6d0d738012e2e5'},\n",
       " {'name': 'Te He Querido, Te He Llorado',\n",
       "  'artist': 'Ivy Queen',\n",
       "  'song_id': '61HuVAedKGMO7jWl8ZyALQ',\n",
       "  'image_url': 'https://i.scdn.co/image/ab67616d0000b2734e05c993d1647c4169b26e1e'}]"
      ]
     },
     "execution_count": 165,
     "metadata": {},
     "output_type": "execute_result"
    }
   ],
   "source": [
    "search('ivy')"
   ]
  },
  {
   "cell_type": "code",
   "execution_count": 166,
   "id": "93a8cdcc",
   "metadata": {},
   "outputs": [
    {
     "data": {
      "text/plain": [
       "{'danceability': 0.575,\n",
       " 'energy': 0.386,\n",
       " 'key': 9,\n",
       " 'loudness': -9.584,\n",
       " 'mode': 0,\n",
       " 'speechiness': 0.037,\n",
       " 'acousticness': 0.785,\n",
       " 'instrumentalness': 0.000289,\n",
       " 'liveness': 0.229,\n",
       " 'valence': 0.466,\n",
       " 'tempo': 116.408,\n",
       " 'type': 'audio_features',\n",
       " 'id': '2ZWlPOoWh0626oTaHrnl2a',\n",
       " 'uri': 'spotify:track:2ZWlPOoWh0626oTaHrnl2a',\n",
       " 'track_href': 'https://api.spotify.com/v1/tracks/2ZWlPOoWh0626oTaHrnl2a',\n",
       " 'analysis_url': 'https://api.spotify.com/v1/audio-analysis/2ZWlPOoWh0626oTaHrnl2a',\n",
       " 'duration_ms': 249191,\n",
       " 'time_signature': 4}"
      ]
     },
     "execution_count": 166,
     "metadata": {},
     "output_type": "execute_result"
    }
   ],
   "source": [
    "feature('2ZWlPOoWh0626oTaHrnl2a') # Ivy"
   ]
  },
  {
   "cell_type": "code",
   "execution_count": 6,
   "id": "00d217ba",
   "metadata": {},
   "outputs": [],
   "source": [
    "import matplotlib.pyplot as plt\n",
    "from numba import jit\n",
    "import numpy as np\n",
    "import random"
   ]
  },
  {
   "cell_type": "markdown",
   "id": "21ecbcb3",
   "metadata": {},
   "source": [
    "jitによる処理の高速化などは、以下を参考にしました。\n",
    "\n",
    "https://qiita.com/kaityo256/items/3c07252ab63591256835\n",
    "\n",
    "peason分類については、以下を参考にしました。これにより、模様を観測できるfeed_rateとkill_rateの組み合わせを割り出すことができます。\n",
    "\n",
    "http://mrob.com/pub/comp/xmorphia/pearson-classes.html"
   ]
  },
  {
   "cell_type": "code",
   "execution_count": 7,
   "id": "73dd70ee",
   "metadata": {},
   "outputs": [],
   "source": [
    "peason_class = [\n",
    "    (0.010, 0.047),\n",
    "    (0.014, 0.053),\n",
    "    (0.014, 0.039),\n",
    "    (0.026, 0.051),\n",
    "    (0.022, 0.051),\n",
    "    (0.026, 0.055),\n",
    "    (0.030, 0.055),\n",
    "    (0.042, 0.059),\n",
    "    (0.018, 0.055),\n",
    "    (0.022, 0.059),\n",
    "    (0.026, 0.059),\n",
    "    (0.034, 0.063),\n",
    "    (0.030, 0.057),\n",
    "    (0.038, 0.061),\n",
    "    (0.046, 0.0594),\n",
    "    (0.050, 0.063),\n",
    "    (0.058, 0.063),\n",
    "    (0.026, 0.061),\n",
    "    (0.034, 0.065),\n",
    "    (0.046, 0.065),\n",
    "    (0.058, 0.065),\n",
    "    (0.014, 0.047),\n",
    "]"
   ]
  },
  {
   "cell_type": "code",
   "execution_count": 167,
   "id": "ac1d766a",
   "metadata": {},
   "outputs": [],
   "source": [
    "peason_feeds = []\n",
    "peason_r = []\n",
    "\n",
    "for i in peason_class:\n",
    "    peason_feeds.append(i[0])\n",
    "    peason_r.append(i[0]/i[1])"
   ]
  },
  {
   "cell_type": "code",
   "execution_count": 12,
   "id": "60b870d1",
   "metadata": {
    "scrolled": true
   },
   "outputs": [],
   "source": [
    "du = 2e-5\n",
    "dv = 1e-5\n",
    "dx = 0.01\n",
    "dt = 1\n",
    "\n",
    "@jit\n",
    "def laplacian(ix, iy, s):\n",
    "    ts = 0.0\n",
    "    ts += s[ix-1, iy]\n",
    "    ts += s[ix+1, iy]\n",
    "    ts += s[ix, iy-1]\n",
    "    ts += s[ix, iy+1]\n",
    "    ts -= 4.0*s[ix, iy]\n",
    "    ts = ts/(dx*dx)\n",
    "    return ts\n",
    "\n",
    "\n",
    "@jit\n",
    "def calc(u, v, u2, v2, F, k):\n",
    "    (L, _) = u.shape\n",
    "    lu = np.zeros((L, L))\n",
    "    lv = np.zeros((L, L))\n",
    "    for ix in range(1, L-1):\n",
    "        for iy in range(1, L-1):\n",
    "            lu[ix, iy] = du * laplacian(ix, iy, u)\n",
    "            lv[ix, iy] = dv * laplacian(ix, iy, v)\n",
    "    cu = -v*v*u + F*(1.0 - u)\n",
    "    cv = v*v*u - (F+k)*v\n",
    "    u2[:] = u + (lu+cu) * dt\n",
    "    v2[:] = v + (lv+cv) * dt\n",
    "\n",
    "@jit\n",
    "def boundary(u, v):\n",
    "    (L, _) = u.shape\n",
    "    for j in range(L):\n",
    "        i = j + 1\n",
    "        n = L - 2\n",
    "        u[i][0] = u[i][n]\n",
    "        u[i][n+1] = u[i][1]\n",
    "        u[0][i] = u[n][i]\n",
    "        u[n+1][i] = u[1][i]\n",
    "\n",
    "        v[i][0] = v[i][n]\n",
    "        v[i][n+1] = v[i][1]\n",
    "        v[0][i] = v[n][i]\n",
    "        v[n+1][i] = v[1][i]\n",
    "\n",
    "\n",
    "def gray_scott(classification, cmap_str, init_vertex, randomness, song_name):\n",
    "    F = peason_class[classification][0]\n",
    "    k = peason_class[classification][1]\n",
    "    print(F, k)\n",
    "    L = 200\n",
    "    u = np.ones((L, L))\n",
    "    u2 = np.ones((L, L))\n",
    "    v = np.zeros((L, L))\n",
    "    v2 = np.zeros((L, L))\n",
    "    h = L//2\n",
    "    u[h, h] = 0.5 + random.random() * 0.1\n",
    "    v[h, h] = 0.25 + random.random() * 0.1\n",
    "    for i in range(20):\n",
    "        for j in range(20):\n",
    "            start = h-11\n",
    "            u[start+i, start+j] = 0.5 + random.random() * 0.2 * randomness\n",
    "            v[start+i, start+j] = 0.25 + random.random() * 0.2 * randomness\n",
    "    for i in range(10000):\n",
    "        if i % 2 == 0:\n",
    "            boundary(u, v)\n",
    "            calc(u, v, u2, v2, F, k)\n",
    "        else:\n",
    "            boundary(u2, v2)\n",
    "            calc(u2, v2, u, v, F, k)\n",
    "\n",
    "    plt.imshow(u, cmap=cmap_str)\n",
    "    plt.tick_params(labelbottom=False, labelleft=False, labelright=False, labeltop=False, bottom=False, left=False, right=False, top=False)\n",
    "    plt.savefig(f\"out/{song_name}.png\")\n",
    "    plt.show()"
   ]
  },
  {
   "cell_type": "markdown",
   "id": "465f99f9",
   "metadata": {},
   "source": [
    "↑のgray_scott関数によって、pythonでgray scottの時間発展を1万回分計算し、プロットすることができます"
   ]
  },
  {
   "cell_type": "code",
   "execution_count": 13,
   "id": "0b4af580",
   "metadata": {},
   "outputs": [],
   "source": [
    "def download_image(url, song_name):\n",
    "    file_name = f\"out/{song_name}_cover.jpg\"\n",
    "\n",
    "    response = requests.get(url)\n",
    "    image = response.content\n",
    "\n",
    "    with open(file_name, \"wb\") as aaa:\n",
    "        aaa.write(image)"
   ]
  },
  {
   "cell_type": "code",
   "execution_count": 169,
   "id": "6a4c5674",
   "metadata": {},
   "outputs": [],
   "source": [
    "def song2pattern(song_id, song_name):\n",
    "    song_feature = feature(song_id)\n",
    "\n",
    "    danceability = song_feature['danceability']\n",
    "    time_signature = song_feature['time_signature']\n",
    "    energy = song_feature['energy']\n",
    "    acousticness = song_feature['acousticness']\n",
    "    valence = song_feature['valence']\n",
    "    \n",
    "    feed = energy * 0.06\n",
    "    kill = (1 - acousticness) * 0.065\n",
    "    \n",
    "    feed_r = feed / kill\n",
    "    \n",
    "    def find_nearest_indices(lst, target):\n",
    "        indices = sorted(range(len(lst)), key=lambda i: abs(lst[i] - target))[:3]\n",
    "        return indices\n",
    "    \n",
    "    near_indices = find_nearest_indices(peason_feeds, feed)\n",
    "    \n",
    "    r_temp = []\n",
    "    for i in near_indices:\n",
    "        r_temp.append(peason_r[i])\n",
    "        \n",
    "    r_max = max(r_temp)\n",
    "    r_max_index = peason_r.index(r_max)\n",
    "    \n",
    "    print(f'type: {r_max_index}')\n",
    "    \n",
    "    randomness = 1 - danceability\n",
    "    if danceability > 0.9:\n",
    "        randomness = 0\n",
    "    \n",
    "    cmap_str = 'YlGnBu'\n",
    "    if valence > 0.8:\n",
    "        cmap_str = 'YlOrBr'\n",
    "    elif valence > 0.6:\n",
    "        cmap_str = 'YlGn'\n",
    "    elif valence > 0.4:\n",
    "        cmap_str = 'YlGnBu'\n",
    "    elif valence > 0.2:\n",
    "        cmap_str = 'viridis'\n",
    "    else:\n",
    "        cmap_str = 'bone'\n",
    "\n",
    "    gray_scott(r_max_index, cmap_str, time_signature, randomness, song_name)"
   ]
  },
  {
   "cell_type": "code",
   "execution_count": 170,
   "id": "0319bce4",
   "metadata": {},
   "outputs": [],
   "source": [
    "def collect_data(item):\n",
    "    name = item['name']\n",
    "    song_id = item['song_id']\n",
    "    image_url = item['image_url']\n",
    "    \n",
    "    print(name)\n",
    "    \n",
    "    download_image(image_url, name)\n",
    "    song2pattern(song_id, name)"
   ]
  },
  {
   "cell_type": "code",
   "execution_count": 171,
   "id": "e4f18414",
   "metadata": {},
   "outputs": [
    {
     "ename": "KeyboardInterrupt",
     "evalue": "",
     "output_type": "error",
     "traceback": [
      "\u001b[0;31m---------------------------------------------------------------------------\u001b[0m",
      "\u001b[0;31mKeyboardInterrupt\u001b[0m                         Traceback (most recent call last)",
      "\u001b[0;32m<ipython-input-171-2b1406230e7a>\u001b[0m in \u001b[0;36m<module>\u001b[0;34m\u001b[0m\n\u001b[0;32m----> 1\u001b[0;31m \u001b[0msearch_results\u001b[0m \u001b[0;34m=\u001b[0m \u001b[0msearch\u001b[0m\u001b[0;34m(\u001b[0m\u001b[0;34m'ここに検索文字列を入力'\u001b[0m\u001b[0;34m)\u001b[0m\u001b[0;34m\u001b[0m\u001b[0;34m\u001b[0m\u001b[0m\n\u001b[0m\u001b[1;32m      2\u001b[0m \u001b[0msearch_results\u001b[0m\u001b[0;34m\u001b[0m\u001b[0;34m\u001b[0m\u001b[0m\n",
      "\u001b[0;32m<ipython-input-163-7a741f5b2db0>\u001b[0m in \u001b[0;36msearch\u001b[0;34m(search_str)\u001b[0m\n\u001b[1;32m      5\u001b[0m     }\n\u001b[1;32m      6\u001b[0m \u001b[0;34m\u001b[0m\u001b[0m\n\u001b[0;32m----> 7\u001b[0;31m     \u001b[0mresponse\u001b[0m \u001b[0;34m=\u001b[0m \u001b[0mrequests\u001b[0m\u001b[0;34m.\u001b[0m\u001b[0mget\u001b[0m\u001b[0;34m(\u001b[0m\u001b[0;34mf'https://api.spotify.com/v1/search?q={search_str}&type=track'\u001b[0m\u001b[0;34m,\u001b[0m \u001b[0mheaders\u001b[0m\u001b[0;34m=\u001b[0m\u001b[0mheaders\u001b[0m\u001b[0;34m)\u001b[0m\u001b[0;34m\u001b[0m\u001b[0;34m\u001b[0m\u001b[0m\n\u001b[0m\u001b[1;32m      8\u001b[0m     \u001b[0mdata\u001b[0m \u001b[0;34m=\u001b[0m \u001b[0mjson\u001b[0m\u001b[0;34m.\u001b[0m\u001b[0mloads\u001b[0m\u001b[0;34m(\u001b[0m\u001b[0mresponse\u001b[0m\u001b[0;34m.\u001b[0m\u001b[0mtext\u001b[0m\u001b[0;34m)\u001b[0m\u001b[0;34m\u001b[0m\u001b[0;34m\u001b[0m\u001b[0m\n\u001b[1;32m      9\u001b[0m     \u001b[0mitems\u001b[0m \u001b[0;34m=\u001b[0m \u001b[0mdata\u001b[0m\u001b[0;34m[\u001b[0m\u001b[0;34m'tracks'\u001b[0m\u001b[0;34m]\u001b[0m\u001b[0;34m[\u001b[0m\u001b[0;34m'items'\u001b[0m\u001b[0;34m]\u001b[0m\u001b[0;34m\u001b[0m\u001b[0;34m\u001b[0m\u001b[0m\n",
      "\u001b[0;32m~/opt/anaconda3/lib/python3.8/site-packages/requests/api.py\u001b[0m in \u001b[0;36mget\u001b[0;34m(url, params, **kwargs)\u001b[0m\n\u001b[1;32m     74\u001b[0m \u001b[0;34m\u001b[0m\u001b[0m\n\u001b[1;32m     75\u001b[0m     \u001b[0mkwargs\u001b[0m\u001b[0;34m.\u001b[0m\u001b[0msetdefault\u001b[0m\u001b[0;34m(\u001b[0m\u001b[0;34m'allow_redirects'\u001b[0m\u001b[0;34m,\u001b[0m \u001b[0;32mTrue\u001b[0m\u001b[0;34m)\u001b[0m\u001b[0;34m\u001b[0m\u001b[0;34m\u001b[0m\u001b[0m\n\u001b[0;32m---> 76\u001b[0;31m     \u001b[0;32mreturn\u001b[0m \u001b[0mrequest\u001b[0m\u001b[0;34m(\u001b[0m\u001b[0;34m'get'\u001b[0m\u001b[0;34m,\u001b[0m \u001b[0murl\u001b[0m\u001b[0;34m,\u001b[0m \u001b[0mparams\u001b[0m\u001b[0;34m=\u001b[0m\u001b[0mparams\u001b[0m\u001b[0;34m,\u001b[0m \u001b[0;34m**\u001b[0m\u001b[0mkwargs\u001b[0m\u001b[0;34m)\u001b[0m\u001b[0;34m\u001b[0m\u001b[0;34m\u001b[0m\u001b[0m\n\u001b[0m\u001b[1;32m     77\u001b[0m \u001b[0;34m\u001b[0m\u001b[0m\n\u001b[1;32m     78\u001b[0m \u001b[0;34m\u001b[0m\u001b[0m\n",
      "\u001b[0;32m~/opt/anaconda3/lib/python3.8/site-packages/requests/api.py\u001b[0m in \u001b[0;36mrequest\u001b[0;34m(method, url, **kwargs)\u001b[0m\n\u001b[1;32m     59\u001b[0m     \u001b[0;31m# cases, and look like a memory leak in others.\u001b[0m\u001b[0;34m\u001b[0m\u001b[0;34m\u001b[0m\u001b[0;34m\u001b[0m\u001b[0m\n\u001b[1;32m     60\u001b[0m     \u001b[0;32mwith\u001b[0m \u001b[0msessions\u001b[0m\u001b[0;34m.\u001b[0m\u001b[0mSession\u001b[0m\u001b[0;34m(\u001b[0m\u001b[0;34m)\u001b[0m \u001b[0;32mas\u001b[0m \u001b[0msession\u001b[0m\u001b[0;34m:\u001b[0m\u001b[0;34m\u001b[0m\u001b[0;34m\u001b[0m\u001b[0m\n\u001b[0;32m---> 61\u001b[0;31m         \u001b[0;32mreturn\u001b[0m \u001b[0msession\u001b[0m\u001b[0;34m.\u001b[0m\u001b[0mrequest\u001b[0m\u001b[0;34m(\u001b[0m\u001b[0mmethod\u001b[0m\u001b[0;34m=\u001b[0m\u001b[0mmethod\u001b[0m\u001b[0;34m,\u001b[0m \u001b[0murl\u001b[0m\u001b[0;34m=\u001b[0m\u001b[0murl\u001b[0m\u001b[0;34m,\u001b[0m \u001b[0;34m**\u001b[0m\u001b[0mkwargs\u001b[0m\u001b[0;34m)\u001b[0m\u001b[0;34m\u001b[0m\u001b[0;34m\u001b[0m\u001b[0m\n\u001b[0m\u001b[1;32m     62\u001b[0m \u001b[0;34m\u001b[0m\u001b[0m\n\u001b[1;32m     63\u001b[0m \u001b[0;34m\u001b[0m\u001b[0m\n",
      "\u001b[0;32m~/opt/anaconda3/lib/python3.8/site-packages/requests/sessions.py\u001b[0m in \u001b[0;36mrequest\u001b[0;34m(self, method, url, params, data, headers, cookies, files, auth, timeout, allow_redirects, proxies, hooks, stream, verify, cert, json)\u001b[0m\n\u001b[1;32m    540\u001b[0m         }\n\u001b[1;32m    541\u001b[0m         \u001b[0msend_kwargs\u001b[0m\u001b[0;34m.\u001b[0m\u001b[0mupdate\u001b[0m\u001b[0;34m(\u001b[0m\u001b[0msettings\u001b[0m\u001b[0;34m)\u001b[0m\u001b[0;34m\u001b[0m\u001b[0;34m\u001b[0m\u001b[0m\n\u001b[0;32m--> 542\u001b[0;31m         \u001b[0mresp\u001b[0m \u001b[0;34m=\u001b[0m \u001b[0mself\u001b[0m\u001b[0;34m.\u001b[0m\u001b[0msend\u001b[0m\u001b[0;34m(\u001b[0m\u001b[0mprep\u001b[0m\u001b[0;34m,\u001b[0m \u001b[0;34m**\u001b[0m\u001b[0msend_kwargs\u001b[0m\u001b[0;34m)\u001b[0m\u001b[0;34m\u001b[0m\u001b[0;34m\u001b[0m\u001b[0m\n\u001b[0m\u001b[1;32m    543\u001b[0m \u001b[0;34m\u001b[0m\u001b[0m\n\u001b[1;32m    544\u001b[0m         \u001b[0;32mreturn\u001b[0m \u001b[0mresp\u001b[0m\u001b[0;34m\u001b[0m\u001b[0;34m\u001b[0m\u001b[0m\n",
      "\u001b[0;32m~/opt/anaconda3/lib/python3.8/site-packages/requests/sessions.py\u001b[0m in \u001b[0;36msend\u001b[0;34m(self, request, **kwargs)\u001b[0m\n\u001b[1;32m    653\u001b[0m \u001b[0;34m\u001b[0m\u001b[0m\n\u001b[1;32m    654\u001b[0m         \u001b[0;31m# Send the request\u001b[0m\u001b[0;34m\u001b[0m\u001b[0;34m\u001b[0m\u001b[0;34m\u001b[0m\u001b[0m\n\u001b[0;32m--> 655\u001b[0;31m         \u001b[0mr\u001b[0m \u001b[0;34m=\u001b[0m \u001b[0madapter\u001b[0m\u001b[0;34m.\u001b[0m\u001b[0msend\u001b[0m\u001b[0;34m(\u001b[0m\u001b[0mrequest\u001b[0m\u001b[0;34m,\u001b[0m \u001b[0;34m**\u001b[0m\u001b[0mkwargs\u001b[0m\u001b[0;34m)\u001b[0m\u001b[0;34m\u001b[0m\u001b[0;34m\u001b[0m\u001b[0m\n\u001b[0m\u001b[1;32m    656\u001b[0m \u001b[0;34m\u001b[0m\u001b[0m\n\u001b[1;32m    657\u001b[0m         \u001b[0;31m# Total elapsed time of the request (approximately)\u001b[0m\u001b[0;34m\u001b[0m\u001b[0;34m\u001b[0m\u001b[0;34m\u001b[0m\u001b[0m\n",
      "\u001b[0;32m~/opt/anaconda3/lib/python3.8/site-packages/requests/adapters.py\u001b[0m in \u001b[0;36msend\u001b[0;34m(self, request, stream, timeout, verify, cert, proxies)\u001b[0m\n\u001b[1;32m    437\u001b[0m         \u001b[0;32mtry\u001b[0m\u001b[0;34m:\u001b[0m\u001b[0;34m\u001b[0m\u001b[0;34m\u001b[0m\u001b[0m\n\u001b[1;32m    438\u001b[0m             \u001b[0;32mif\u001b[0m \u001b[0;32mnot\u001b[0m \u001b[0mchunked\u001b[0m\u001b[0;34m:\u001b[0m\u001b[0;34m\u001b[0m\u001b[0;34m\u001b[0m\u001b[0m\n\u001b[0;32m--> 439\u001b[0;31m                 resp = conn.urlopen(\n\u001b[0m\u001b[1;32m    440\u001b[0m                     \u001b[0mmethod\u001b[0m\u001b[0;34m=\u001b[0m\u001b[0mrequest\u001b[0m\u001b[0;34m.\u001b[0m\u001b[0mmethod\u001b[0m\u001b[0;34m,\u001b[0m\u001b[0;34m\u001b[0m\u001b[0;34m\u001b[0m\u001b[0m\n\u001b[1;32m    441\u001b[0m                     \u001b[0murl\u001b[0m\u001b[0;34m=\u001b[0m\u001b[0murl\u001b[0m\u001b[0;34m,\u001b[0m\u001b[0;34m\u001b[0m\u001b[0;34m\u001b[0m\u001b[0m\n",
      "\u001b[0;32m~/opt/anaconda3/lib/python3.8/site-packages/urllib3/connectionpool.py\u001b[0m in \u001b[0;36murlopen\u001b[0;34m(self, method, url, body, headers, retries, redirect, assert_same_host, timeout, pool_timeout, release_conn, chunked, body_pos, **response_kw)\u001b[0m\n\u001b[1;32m    697\u001b[0m \u001b[0;34m\u001b[0m\u001b[0m\n\u001b[1;32m    698\u001b[0m             \u001b[0;31m# Make the request on the httplib connection object.\u001b[0m\u001b[0;34m\u001b[0m\u001b[0;34m\u001b[0m\u001b[0;34m\u001b[0m\u001b[0m\n\u001b[0;32m--> 699\u001b[0;31m             httplib_response = self._make_request(\n\u001b[0m\u001b[1;32m    700\u001b[0m                 \u001b[0mconn\u001b[0m\u001b[0;34m,\u001b[0m\u001b[0;34m\u001b[0m\u001b[0;34m\u001b[0m\u001b[0m\n\u001b[1;32m    701\u001b[0m                 \u001b[0mmethod\u001b[0m\u001b[0;34m,\u001b[0m\u001b[0;34m\u001b[0m\u001b[0;34m\u001b[0m\u001b[0m\n",
      "\u001b[0;32m~/opt/anaconda3/lib/python3.8/site-packages/urllib3/connectionpool.py\u001b[0m in \u001b[0;36m_make_request\u001b[0;34m(self, conn, method, url, timeout, chunked, **httplib_request_kw)\u001b[0m\n\u001b[1;32m    443\u001b[0m                     \u001b[0;31m# Python 3 (including for exceptions like SystemExit).\u001b[0m\u001b[0;34m\u001b[0m\u001b[0;34m\u001b[0m\u001b[0;34m\u001b[0m\u001b[0m\n\u001b[1;32m    444\u001b[0m                     \u001b[0;31m# Otherwise it looks like a bug in the code.\u001b[0m\u001b[0;34m\u001b[0m\u001b[0;34m\u001b[0m\u001b[0;34m\u001b[0m\u001b[0m\n\u001b[0;32m--> 445\u001b[0;31m                     \u001b[0msix\u001b[0m\u001b[0;34m.\u001b[0m\u001b[0mraise_from\u001b[0m\u001b[0;34m(\u001b[0m\u001b[0me\u001b[0m\u001b[0;34m,\u001b[0m \u001b[0;32mNone\u001b[0m\u001b[0;34m)\u001b[0m\u001b[0;34m\u001b[0m\u001b[0;34m\u001b[0m\u001b[0m\n\u001b[0m\u001b[1;32m    446\u001b[0m         \u001b[0;32mexcept\u001b[0m \u001b[0;34m(\u001b[0m\u001b[0mSocketTimeout\u001b[0m\u001b[0;34m,\u001b[0m \u001b[0mBaseSSLError\u001b[0m\u001b[0;34m,\u001b[0m \u001b[0mSocketError\u001b[0m\u001b[0;34m)\u001b[0m \u001b[0;32mas\u001b[0m \u001b[0me\u001b[0m\u001b[0;34m:\u001b[0m\u001b[0;34m\u001b[0m\u001b[0;34m\u001b[0m\u001b[0m\n\u001b[1;32m    447\u001b[0m             \u001b[0mself\u001b[0m\u001b[0;34m.\u001b[0m\u001b[0m_raise_timeout\u001b[0m\u001b[0;34m(\u001b[0m\u001b[0merr\u001b[0m\u001b[0;34m=\u001b[0m\u001b[0me\u001b[0m\u001b[0;34m,\u001b[0m \u001b[0murl\u001b[0m\u001b[0;34m=\u001b[0m\u001b[0murl\u001b[0m\u001b[0;34m,\u001b[0m \u001b[0mtimeout_value\u001b[0m\u001b[0;34m=\u001b[0m\u001b[0mread_timeout\u001b[0m\u001b[0;34m)\u001b[0m\u001b[0;34m\u001b[0m\u001b[0;34m\u001b[0m\u001b[0m\n",
      "\u001b[0;32m~/opt/anaconda3/lib/python3.8/site-packages/urllib3/packages/six.py\u001b[0m in \u001b[0;36mraise_from\u001b[0;34m(value, from_value)\u001b[0m\n",
      "\u001b[0;32m~/opt/anaconda3/lib/python3.8/site-packages/urllib3/connectionpool.py\u001b[0m in \u001b[0;36m_make_request\u001b[0;34m(self, conn, method, url, timeout, chunked, **httplib_request_kw)\u001b[0m\n\u001b[1;32m    438\u001b[0m                 \u001b[0;31m# Python 3\u001b[0m\u001b[0;34m\u001b[0m\u001b[0;34m\u001b[0m\u001b[0;34m\u001b[0m\u001b[0m\n\u001b[1;32m    439\u001b[0m                 \u001b[0;32mtry\u001b[0m\u001b[0;34m:\u001b[0m\u001b[0;34m\u001b[0m\u001b[0;34m\u001b[0m\u001b[0m\n\u001b[0;32m--> 440\u001b[0;31m                     \u001b[0mhttplib_response\u001b[0m \u001b[0;34m=\u001b[0m \u001b[0mconn\u001b[0m\u001b[0;34m.\u001b[0m\u001b[0mgetresponse\u001b[0m\u001b[0;34m(\u001b[0m\u001b[0;34m)\u001b[0m\u001b[0;34m\u001b[0m\u001b[0;34m\u001b[0m\u001b[0m\n\u001b[0m\u001b[1;32m    441\u001b[0m                 \u001b[0;32mexcept\u001b[0m \u001b[0mBaseException\u001b[0m \u001b[0;32mas\u001b[0m \u001b[0me\u001b[0m\u001b[0;34m:\u001b[0m\u001b[0;34m\u001b[0m\u001b[0;34m\u001b[0m\u001b[0m\n\u001b[1;32m    442\u001b[0m                     \u001b[0;31m# Remove the TypeError from the exception chain in\u001b[0m\u001b[0;34m\u001b[0m\u001b[0;34m\u001b[0m\u001b[0;34m\u001b[0m\u001b[0m\n",
      "\u001b[0;32m~/opt/anaconda3/lib/python3.8/http/client.py\u001b[0m in \u001b[0;36mgetresponse\u001b[0;34m(self)\u001b[0m\n\u001b[1;32m   1345\u001b[0m         \u001b[0;32mtry\u001b[0m\u001b[0;34m:\u001b[0m\u001b[0;34m\u001b[0m\u001b[0;34m\u001b[0m\u001b[0m\n\u001b[1;32m   1346\u001b[0m             \u001b[0;32mtry\u001b[0m\u001b[0;34m:\u001b[0m\u001b[0;34m\u001b[0m\u001b[0;34m\u001b[0m\u001b[0m\n\u001b[0;32m-> 1347\u001b[0;31m                 \u001b[0mresponse\u001b[0m\u001b[0;34m.\u001b[0m\u001b[0mbegin\u001b[0m\u001b[0;34m(\u001b[0m\u001b[0;34m)\u001b[0m\u001b[0;34m\u001b[0m\u001b[0;34m\u001b[0m\u001b[0m\n\u001b[0m\u001b[1;32m   1348\u001b[0m             \u001b[0;32mexcept\u001b[0m \u001b[0mConnectionError\u001b[0m\u001b[0;34m:\u001b[0m\u001b[0;34m\u001b[0m\u001b[0;34m\u001b[0m\u001b[0m\n\u001b[1;32m   1349\u001b[0m                 \u001b[0mself\u001b[0m\u001b[0;34m.\u001b[0m\u001b[0mclose\u001b[0m\u001b[0;34m(\u001b[0m\u001b[0;34m)\u001b[0m\u001b[0;34m\u001b[0m\u001b[0;34m\u001b[0m\u001b[0m\n",
      "\u001b[0;32m~/opt/anaconda3/lib/python3.8/http/client.py\u001b[0m in \u001b[0;36mbegin\u001b[0;34m(self)\u001b[0m\n\u001b[1;32m    305\u001b[0m         \u001b[0;31m# read until we get a non-100 response\u001b[0m\u001b[0;34m\u001b[0m\u001b[0;34m\u001b[0m\u001b[0;34m\u001b[0m\u001b[0m\n\u001b[1;32m    306\u001b[0m         \u001b[0;32mwhile\u001b[0m \u001b[0;32mTrue\u001b[0m\u001b[0;34m:\u001b[0m\u001b[0;34m\u001b[0m\u001b[0;34m\u001b[0m\u001b[0m\n\u001b[0;32m--> 307\u001b[0;31m             \u001b[0mversion\u001b[0m\u001b[0;34m,\u001b[0m \u001b[0mstatus\u001b[0m\u001b[0;34m,\u001b[0m \u001b[0mreason\u001b[0m \u001b[0;34m=\u001b[0m \u001b[0mself\u001b[0m\u001b[0;34m.\u001b[0m\u001b[0m_read_status\u001b[0m\u001b[0;34m(\u001b[0m\u001b[0;34m)\u001b[0m\u001b[0;34m\u001b[0m\u001b[0;34m\u001b[0m\u001b[0m\n\u001b[0m\u001b[1;32m    308\u001b[0m             \u001b[0;32mif\u001b[0m \u001b[0mstatus\u001b[0m \u001b[0;34m!=\u001b[0m \u001b[0mCONTINUE\u001b[0m\u001b[0;34m:\u001b[0m\u001b[0;34m\u001b[0m\u001b[0;34m\u001b[0m\u001b[0m\n\u001b[1;32m    309\u001b[0m                 \u001b[0;32mbreak\u001b[0m\u001b[0;34m\u001b[0m\u001b[0;34m\u001b[0m\u001b[0m\n",
      "\u001b[0;32m~/opt/anaconda3/lib/python3.8/http/client.py\u001b[0m in \u001b[0;36m_read_status\u001b[0;34m(self)\u001b[0m\n\u001b[1;32m    266\u001b[0m \u001b[0;34m\u001b[0m\u001b[0m\n\u001b[1;32m    267\u001b[0m     \u001b[0;32mdef\u001b[0m \u001b[0m_read_status\u001b[0m\u001b[0;34m(\u001b[0m\u001b[0mself\u001b[0m\u001b[0;34m)\u001b[0m\u001b[0;34m:\u001b[0m\u001b[0;34m\u001b[0m\u001b[0;34m\u001b[0m\u001b[0m\n\u001b[0;32m--> 268\u001b[0;31m         \u001b[0mline\u001b[0m \u001b[0;34m=\u001b[0m \u001b[0mstr\u001b[0m\u001b[0;34m(\u001b[0m\u001b[0mself\u001b[0m\u001b[0;34m.\u001b[0m\u001b[0mfp\u001b[0m\u001b[0;34m.\u001b[0m\u001b[0mreadline\u001b[0m\u001b[0;34m(\u001b[0m\u001b[0m_MAXLINE\u001b[0m \u001b[0;34m+\u001b[0m \u001b[0;36m1\u001b[0m\u001b[0;34m)\u001b[0m\u001b[0;34m,\u001b[0m \u001b[0;34m\"iso-8859-1\"\u001b[0m\u001b[0;34m)\u001b[0m\u001b[0;34m\u001b[0m\u001b[0;34m\u001b[0m\u001b[0m\n\u001b[0m\u001b[1;32m    269\u001b[0m         \u001b[0;32mif\u001b[0m \u001b[0mlen\u001b[0m\u001b[0;34m(\u001b[0m\u001b[0mline\u001b[0m\u001b[0;34m)\u001b[0m \u001b[0;34m>\u001b[0m \u001b[0m_MAXLINE\u001b[0m\u001b[0;34m:\u001b[0m\u001b[0;34m\u001b[0m\u001b[0;34m\u001b[0m\u001b[0m\n\u001b[1;32m    270\u001b[0m             \u001b[0;32mraise\u001b[0m \u001b[0mLineTooLong\u001b[0m\u001b[0;34m(\u001b[0m\u001b[0;34m\"status line\"\u001b[0m\u001b[0;34m)\u001b[0m\u001b[0;34m\u001b[0m\u001b[0;34m\u001b[0m\u001b[0m\n",
      "\u001b[0;32m~/opt/anaconda3/lib/python3.8/socket.py\u001b[0m in \u001b[0;36mreadinto\u001b[0;34m(self, b)\u001b[0m\n\u001b[1;32m    667\u001b[0m         \u001b[0;32mwhile\u001b[0m \u001b[0;32mTrue\u001b[0m\u001b[0;34m:\u001b[0m\u001b[0;34m\u001b[0m\u001b[0;34m\u001b[0m\u001b[0m\n\u001b[1;32m    668\u001b[0m             \u001b[0;32mtry\u001b[0m\u001b[0;34m:\u001b[0m\u001b[0;34m\u001b[0m\u001b[0;34m\u001b[0m\u001b[0m\n\u001b[0;32m--> 669\u001b[0;31m                 \u001b[0;32mreturn\u001b[0m \u001b[0mself\u001b[0m\u001b[0;34m.\u001b[0m\u001b[0m_sock\u001b[0m\u001b[0;34m.\u001b[0m\u001b[0mrecv_into\u001b[0m\u001b[0;34m(\u001b[0m\u001b[0mb\u001b[0m\u001b[0;34m)\u001b[0m\u001b[0;34m\u001b[0m\u001b[0;34m\u001b[0m\u001b[0m\n\u001b[0m\u001b[1;32m    670\u001b[0m             \u001b[0;32mexcept\u001b[0m \u001b[0mtimeout\u001b[0m\u001b[0;34m:\u001b[0m\u001b[0;34m\u001b[0m\u001b[0;34m\u001b[0m\u001b[0m\n\u001b[1;32m    671\u001b[0m                 \u001b[0mself\u001b[0m\u001b[0;34m.\u001b[0m\u001b[0m_timeout_occurred\u001b[0m \u001b[0;34m=\u001b[0m \u001b[0;32mTrue\u001b[0m\u001b[0;34m\u001b[0m\u001b[0;34m\u001b[0m\u001b[0m\n",
      "\u001b[0;32m~/opt/anaconda3/lib/python3.8/ssl.py\u001b[0m in \u001b[0;36mrecv_into\u001b[0;34m(self, buffer, nbytes, flags)\u001b[0m\n\u001b[1;32m   1239\u001b[0m                   \u001b[0;34m\"non-zero flags not allowed in calls to recv_into() on %s\"\u001b[0m \u001b[0;34m%\u001b[0m\u001b[0;34m\u001b[0m\u001b[0;34m\u001b[0m\u001b[0m\n\u001b[1;32m   1240\u001b[0m                   self.__class__)\n\u001b[0;32m-> 1241\u001b[0;31m             \u001b[0;32mreturn\u001b[0m \u001b[0mself\u001b[0m\u001b[0;34m.\u001b[0m\u001b[0mread\u001b[0m\u001b[0;34m(\u001b[0m\u001b[0mnbytes\u001b[0m\u001b[0;34m,\u001b[0m \u001b[0mbuffer\u001b[0m\u001b[0;34m)\u001b[0m\u001b[0;34m\u001b[0m\u001b[0;34m\u001b[0m\u001b[0m\n\u001b[0m\u001b[1;32m   1242\u001b[0m         \u001b[0;32melse\u001b[0m\u001b[0;34m:\u001b[0m\u001b[0;34m\u001b[0m\u001b[0;34m\u001b[0m\u001b[0m\n\u001b[1;32m   1243\u001b[0m             \u001b[0;32mreturn\u001b[0m \u001b[0msuper\u001b[0m\u001b[0;34m(\u001b[0m\u001b[0;34m)\u001b[0m\u001b[0;34m.\u001b[0m\u001b[0mrecv_into\u001b[0m\u001b[0;34m(\u001b[0m\u001b[0mbuffer\u001b[0m\u001b[0;34m,\u001b[0m \u001b[0mnbytes\u001b[0m\u001b[0;34m,\u001b[0m \u001b[0mflags\u001b[0m\u001b[0;34m)\u001b[0m\u001b[0;34m\u001b[0m\u001b[0;34m\u001b[0m\u001b[0m\n",
      "\u001b[0;32m~/opt/anaconda3/lib/python3.8/ssl.py\u001b[0m in \u001b[0;36mread\u001b[0;34m(self, len, buffer)\u001b[0m\n\u001b[1;32m   1097\u001b[0m         \u001b[0;32mtry\u001b[0m\u001b[0;34m:\u001b[0m\u001b[0;34m\u001b[0m\u001b[0;34m\u001b[0m\u001b[0m\n\u001b[1;32m   1098\u001b[0m             \u001b[0;32mif\u001b[0m \u001b[0mbuffer\u001b[0m \u001b[0;32mis\u001b[0m \u001b[0;32mnot\u001b[0m \u001b[0;32mNone\u001b[0m\u001b[0;34m:\u001b[0m\u001b[0;34m\u001b[0m\u001b[0;34m\u001b[0m\u001b[0m\n\u001b[0;32m-> 1099\u001b[0;31m                 \u001b[0;32mreturn\u001b[0m \u001b[0mself\u001b[0m\u001b[0;34m.\u001b[0m\u001b[0m_sslobj\u001b[0m\u001b[0;34m.\u001b[0m\u001b[0mread\u001b[0m\u001b[0;34m(\u001b[0m\u001b[0mlen\u001b[0m\u001b[0;34m,\u001b[0m \u001b[0mbuffer\u001b[0m\u001b[0;34m)\u001b[0m\u001b[0;34m\u001b[0m\u001b[0;34m\u001b[0m\u001b[0m\n\u001b[0m\u001b[1;32m   1100\u001b[0m             \u001b[0;32melse\u001b[0m\u001b[0;34m:\u001b[0m\u001b[0;34m\u001b[0m\u001b[0;34m\u001b[0m\u001b[0m\n\u001b[1;32m   1101\u001b[0m                 \u001b[0;32mreturn\u001b[0m \u001b[0mself\u001b[0m\u001b[0;34m.\u001b[0m\u001b[0m_sslobj\u001b[0m\u001b[0;34m.\u001b[0m\u001b[0mread\u001b[0m\u001b[0;34m(\u001b[0m\u001b[0mlen\u001b[0m\u001b[0;34m)\u001b[0m\u001b[0;34m\u001b[0m\u001b[0;34m\u001b[0m\u001b[0m\n",
      "\u001b[0;31mKeyboardInterrupt\u001b[0m: "
     ]
    }
   ],
   "source": [
    "search_results = search('ここに検索文字列を入力')\n",
    "search_results"
   ]
  },
  {
   "cell_type": "code",
   "execution_count": 158,
   "id": "7f6ae050",
   "metadata": {},
   "outputs": [
    {
     "name": "stdout",
     "output_type": "stream",
     "text": [
      "type: 2\n",
      "0.014 0.039\n"
     ]
    },
    {
     "data": {
      "image/png": "[encoded data removed]",
      "text/plain": [
       "<Figure size 432x288 with 1 Axes>"
      ]
     },
     "metadata": {},
     "output_type": "display_data"
    }
   ],
   "source": [
    "collect_data(search_results[0])"
   ]
  },
  {
   "cell_type": "code",
   "execution_count": null,
   "id": "832ae2c7",
   "metadata": {},
   "outputs": [],
   "source": []
  }
 ],
 "metadata": {
  "kernelspec": {
   "display_name": "Python 3",
   "language": "python",
   "name": "python3"
  },
  "language_info": {
   "codemirror_mode": {
    "name": "ipython",
    "version": 3
   },
   "file_extension": ".py",
   "mimetype": "text/x-python",
   "name": "python",
   "nbconvert_exporter": "python",
   "pygments_lexer": "ipython3",
   "version": "3.8.8"
  }
 },
 "nbformat": 4,
 "nbformat_minor": 5
}
